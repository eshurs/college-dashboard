{
 "cells": [
  {
   "cell_type": "code",
   "execution_count": 309,
   "id": "1753ca81",
   "metadata": {},
   "outputs": [],
   "source": [
    "# import modules\n",
    "import pandas as pd\n",
    "import numpy as np\n",
    "import matplotlib.pyplot as plt\n",
    "\n",
    "# data sources:\n",
    "# college tuition, diversity, & pay: https://www.kaggle.com/datasets/jessemostipak/college-tuition-diversity-and-pay\n",
    "# us college data: https://www.kaggle.com/datasets/yashgpt/us-college-data?resource=download\n",
    "\n",
    "# load csvs into dataframes\n",
    "diversity_df = pd.read_csv('archive/diversity_school.csv')\n",
    "historical_df = pd.read_csv('archive/historical_tuition.csv')\n",
    "salary_df = pd.read_csv('archive/salary_potential.csv')\n",
    "tuition_cost_df = pd.read_csv('archive/tuition_cost.csv')\n",
    "tuition_income_df = pd.read_csv('archive/tuition_income.csv')"
   ]
  },
  {
   "cell_type": "markdown",
   "id": "07ce20fb",
   "metadata": {},
   "source": [
    "## Exploratory Data Analysis"
   ]
  },
  {
   "cell_type": "markdown",
   "id": "56d6b313",
   "metadata": {},
   "source": [
    "### Dataset 1: College Tuition, Diversity, & Pay"
   ]
  },
  {
   "cell_type": "code",
   "execution_count": 310,
   "id": "71b5fa7e",
   "metadata": {},
   "outputs": [],
   "source": [
    "# diversity\n",
    "\n",
    "# rearrange dataframe\n",
    "\n",
    "school_cat_count_dict = {}\n",
    "schools = diversity_df['name'].unique().tolist()\n",
    "cats = diversity_df['category'].unique().tolist()\n",
    "cats.append('Total Enrollment')\n",
    "\n",
    "for school in schools:\n",
    "    try:\n",
    "        school_df = diversity_df[diversity_df['name']== school]\n",
    "        counts = school_df['enrollment'].values.tolist()\n",
    "        counts.append(school_df['total_enrollment'].values[0])\n",
    "        school_dict = {cat:count for cat,count in zip(cats,counts)}\n",
    "        school_cat_count_dict[school] = school_dict\n",
    "    except IndexError:\n",
    "        pass\n",
    "    "
   ]
  },
  {
   "cell_type": "code",
   "execution_count": 311,
   "id": "3e60e2e6",
   "metadata": {},
   "outputs": [
    {
     "name": "stdout",
     "output_type": "stream",
     "text": [
      "                                 College Name   Women  \\\n",
      "0               University of Phoenix-Arizona  134722   \n",
      "1  Ivy Tech Community College-Central Indiana   53476   \n",
      "2                          Liberty University   48329   \n",
      "3                    Lone Star College system   41268   \n",
      "4                          Miami Dade College   38323   \n",
      "\n",
      "   American Indian / Alaska Native  Asian  Black  Hispanic  \\\n",
      "0                              876   1959  31455     13984   \n",
      "1                              357   1369  12370      5533   \n",
      "2                              447    856  14751      1186   \n",
      "3                              168   4198  12094     23751   \n",
      "4                               47    655  10722     44870   \n",
      "\n",
      "   Native Hawaiian / Pacific Islander  White  Two Or More Races  \\\n",
      "0                                1019  58209              19039   \n",
      "1                                   0  61498               1804   \n",
      "2                                 151  39062               1772   \n",
      "3                                   0  23615               1997   \n",
      "4                                  41   4170                226   \n",
      "\n",
      "   Non-Resident Foreign  Total Minority  Total Enrollment  \n",
      "0                  3355           68332            195059  \n",
      "1                    24           21433             91179  \n",
      "2                  1036           19163             81459  \n",
      "3                  1299           42208             69395  \n",
      "4                  3388           56561             66046  \n"
     ]
    }
   ],
   "source": [
    "new_div_df = pd.DataFrame.from_dict(school_cat_count_dict).T.reset_index().rename(columns = {'index':'College Name'})\n",
    "new_div_df = new_div_df.drop(columns = ['Unknown'])\n",
    "print(new_div_df.head())"
   ]
  },
  {
   "cell_type": "code",
   "execution_count": 312,
   "id": "498d0b2e",
   "metadata": {},
   "outputs": [
    {
     "name": "stdout",
     "output_type": "stream",
     "text": [
      "                          College Name  early_career_pay  mid_career_pay  \\\n",
      "0                    Auburn University             54400          104500   \n",
      "1  University of Alabama in Huntsville             57500          103900   \n",
      "2            The University of Alabama             52300           97400   \n",
      "3                  Tuskegee University             54500           93500   \n",
      "4                   Samford University             48400           90500   \n",
      "\n",
      "   stem_percent  \n",
      "0            31  \n",
      "1            45  \n",
      "2            15  \n",
      "3            30  \n",
      "4             3  \n"
     ]
    }
   ],
   "source": [
    "# salary\n",
    "salary_df = salary_df.drop(columns = ['rank','state_name','make_world_better_percent']).rename(\n",
    "columns = {'name':'College Name'})\n",
    "\n",
    "print(salary_df.head())"
   ]
  },
  {
   "cell_type": "code",
   "execution_count": 313,
   "id": "9a04cb5c",
   "metadata": {},
   "outputs": [
    {
     "name": "stdout",
     "output_type": "stream",
     "text": [
      "                           College Name       state State abbreviation  \\\n",
      "0                Aaniiih Nakoda College     Montana                 MT   \n",
      "1          Abilene Christian University       Texas                 TX   \n",
      "2  Abraham Baldwin Agricultural College     Georgia                 GA   \n",
      "3                       Academy College   Minnesota                 MN   \n",
      "4             Academy of Art University  California                 CA   \n",
      "\n",
      "         type Degree Length  Room and Board  In-state Tuition  In-state Total  \\\n",
      "0      Public        2 Year             NaN              2380            2380   \n",
      "1     Private        4 Year         10350.0             34850           45200   \n",
      "2      Public        2 Year          8474.0              4128           12602   \n",
      "3  For Profit        2 Year             NaN             17661           17661   \n",
      "4  For Profit        4 Year         16648.0             27810           44458   \n",
      "\n",
      "   Out-of-state Tuition  Out-of-state Total  \n",
      "0                  2380                2380  \n",
      "1                 34850               45200  \n",
      "2                 12550               21024  \n",
      "3                 17661               17661  \n",
      "4                 27810               44458  \n"
     ]
    }
   ],
   "source": [
    "# tuition cost\n",
    "tuition_cost_df = tuition_cost_df.rename(columns = {'name':'College Name', 'state_code':'State abbreviation', \n",
    "                                                   'degree_length':'Degree Length', 'room_and_board':'Room and Board',\n",
    "                                                   'in_state_tuition':'In-state Tuition',\n",
    "                                                    'in_state_total':'In-state Total',\n",
    "                                                   'out_of_state_tuition':'Out-of-state Tuition', \n",
    "                                                    'out_of_state_total':'Out-of-state Total'})\n",
    "print(tuition_cost_df.head())"
   ]
  },
  {
   "cell_type": "code",
   "execution_count": 314,
   "id": "cd3436f0",
   "metadata": {
    "scrolled": false
   },
   "outputs": [
    {
     "name": "stdout",
     "output_type": "stream",
     "text": [
      "                                name state  total_price  year     campus  \\\n",
      "0  Piedmont International University    NC        20174  2016  On Campus   \n",
      "1  Piedmont International University    NC        20174  2016  On Campus   \n",
      "2  Piedmont International University    NC        20174  2016  On Campus   \n",
      "3  Piedmont International University    NC        20174  2016  On Campus   \n",
      "4  Piedmont International University    NC        20514  2017  On Campus   \n",
      "\n",
      "      net_cost         income_lvl  \n",
      "0  11475.00000        0 to 30,000  \n",
      "1  11451.00000   30,001 to 48,000  \n",
      "2  16229.00000   48_001 to 75,000  \n",
      "3  15592.00000  75,001 to 110,000  \n",
      "4  11668.39249        0 to 30,000  \n"
     ]
    }
   ],
   "source": [
    "# tuition income - scholarship / time evolved pricing (to be used in later parts of the project)\n",
    "print(tuition_income_df.head())"
   ]
  },
  {
   "cell_type": "markdown",
   "id": "370ead0b",
   "metadata": {},
   "source": [
    "### Dataset 2: US College Data"
   ]
  },
  {
   "cell_type": "code",
   "execution_count": 315,
   "id": "af6ac83f",
   "metadata": {},
   "outputs": [
    {
     "name": "stdout",
     "output_type": "stream",
     "text": [
      "                   College Name  Apps  Full-time Undergrads  \\\n",
      "0  Abilene Christian University  1660                  2885   \n",
      "1            Adelphi University  2186                  2683   \n",
      "2                Adrian College  1428                  1036   \n",
      "3           Agnes Scott College   417                   510   \n",
      "4     Alaska Pacific University   193                   249   \n",
      "\n",
      "   Part-time Undergrads  Avg Book Costs  Avg Personal Costs  \\\n",
      "0                   537             450                2200   \n",
      "1                  1227             750                1500   \n",
      "2                    99             400                1165   \n",
      "3                    63             450                 875   \n",
      "4                   869             800                1500   \n",
      "\n",
      "   Percent of Faculty with PhD  Student:Faculty Ratio  \\\n",
      "0                           70                   18.1   \n",
      "1                           29                   12.2   \n",
      "2                           53                   12.9   \n",
      "3                           92                    7.7   \n",
      "4                           76                   11.9   \n",
      "\n",
      "   Avg Instructional Expenditure per Student  Graduation Rate  \\\n",
      "0                                       7041               60   \n",
      "1                                      10527               56   \n",
      "2                                       8735               54   \n",
      "3                                      19016               59   \n",
      "4                                      10922               15   \n",
      "\n",
      "   Percent of Applications Accepted  \n",
      "0                              74.0  \n",
      "1                              88.0  \n",
      "2                              77.0  \n",
      "3                              84.0  \n",
      "4                              76.0  \n"
     ]
    }
   ],
   "source": [
    "college_df = pd.read_csv('archive/College_Data.csv').drop(columns = ['Private', 'perc.alumni','Outstate','Room.Board',\n",
    "                                                                     'Top10perc','Top25perc','Terminal', 'Enroll'])\n",
    "\n",
    "\n",
    "college_df = college_df.rename(columns = {'Unnamed: 0':'College Name','Expend':'Avg Instructional Expenditure per Student',\n",
    "                                          'F.Undergrad':'Full-time Undergrads','P.Undergrad':'Part-time Undergrads',\n",
    "                                         'Grad.Rate':'Graduation Rate', 'S.F.Ratio':'Student:Faculty Ratio',\n",
    "                                         'PhD':'Percent of Faculty with PhD', 'Books':'Avg Book Costs',\n",
    "                                         'Personal':'Avg Personal Costs'})\n",
    "college_df['Percent of Applications Accepted'] = round(college_df['Accept']/college_df['Apps']*100,0)\n",
    "college_df = college_df.drop(columns = 'Accept')\n",
    "\n",
    "print(college_df.head())"
   ]
  },
  {
   "cell_type": "markdown",
   "id": "e5dcea10",
   "metadata": {},
   "source": [
    "## Cleaning & Merging Data"
   ]
  },
  {
   "cell_type": "code",
   "execution_count": 316,
   "id": "a11b87fc",
   "metadata": {
    "scrolled": true
   },
   "outputs": [],
   "source": [
    "merged_df = new_div_df.merge(salary_df.merge(tuition_cost_df.merge(college_df)))\n",
    "merged_df = merged_df.fillna(0) # make world better, room and board nans ==> 0"
   ]
  },
  {
   "cell_type": "code",
   "execution_count": 318,
   "id": "77fa108b",
   "metadata": {
    "scrolled": false
   },
   "outputs": [
    {
     "name": "stdout",
     "output_type": "stream",
     "text": [
      "['College Name', 'Total Enrollment', 'State', 'State abbreviation', 'Graduation Rate', 'Percent of Applications Accepted', 'In-state Tuition', 'In-state Total', 'Out-of-state Tuition', 'Out-of-state Total', 'Room and Board', 'Avg Book Costs', 'Avg Personal Costs', 'Female Students', 'American Indian / Alaska Native Students', 'Asian Students', 'Black Students', 'Hispanic Students', 'Native Hawaiian / Pacific Islander Students', 'White Students', 'Multi-racial Students', 'Foreign Exchange Students', 'Total Minority', '# of Applications', 'Full-time Undergrads', 'Part-time Undergrads', 'Percent of Faculty with PhD', 'Student:Faculty Ratio', 'Avg Instructional Expenditure per Student', 'Avg Early Career Pay', 'Avg Mid Career Pay', 'Percent STEM Majors', 'College Type', 'Degree Length']\n"
     ]
    }
   ],
   "source": [
    "merged_df = merged_df.rename(\n",
    "    columns = {'Women':'Female Students',\n",
    "               'American Indian / Alaska Native': 'American Indian / Alaska Native Students',\n",
    "               'Asian':'Asian Students',\n",
    "               'Black':'Black Students',\n",
    "               'Hispanic':'Hispanic Students',\n",
    "               'Native Hawaiian / Pacific Islander': 'Native Hawaiian / Pacific Islander Students',\n",
    "               'White':'White Students',\n",
    "               'Two Or More Races':'Multi-racial Students',\n",
    "               'Non-Resident Foreign':'Foreign Exchange Students',\n",
    "                'early_career_pay': 'Avg Early Career Pay',\n",
    "               'mid_career_pay':'Avg Mid Career Pay',\n",
    "               'stem_percent':'Percent STEM Majors',\n",
    "               'state':\"State\",\n",
    "               'type':'College Type',\n",
    "               'Apps':'# of Applications',\n",
    "    \n",
    "              }\n",
    ")\n",
    "col_order = ['College Name','Total Enrollment','State', 'State abbreviation', 'Graduation Rate', 'Percent of Applications Accepted',\n",
    "             'In-state Tuition', 'In-state Total', 'Out-of-state Tuition', 'Out-of-state Total','Room and Board','Avg Book Costs', 'Avg Personal Costs',\n",
    "             'Female Students', 'American Indian / Alaska Native Students', 'Asian Students', 'Black Students', 'Hispanic Students', 'Native Hawaiian / Pacific Islander Students', 'White Students', 'Multi-racial Students', 'Foreign Exchange Students', 'Total Minority', \n",
    "             '# of Applications', 'Full-time Undergrads', 'Part-time Undergrads' , 'Percent of Faculty with PhD', 'Student:Faculty Ratio', 'Avg Instructional Expenditure per Student',\n",
    "             'Avg Early Career Pay', 'Avg Mid Career Pay', 'Percent STEM Majors', 'College Type', 'Degree Length',]\n",
    "merged_df = merged_df[col_order]\n",
    "print(merged_df.columns.tolist())"
   ]
  },
  {
   "cell_type": "code",
   "execution_count": 319,
   "id": "0922bff8",
   "metadata": {},
   "outputs": [],
   "source": [
    "# save merged df as csv\n",
    "import os\n",
    "if os.path.exists('data.csv'):\n",
    "    os.remove('data.csv')\n",
    "merged_df.to_csv('data.csv')"
   ]
  }
 ],
 "metadata": {
  "kernelspec": {
   "display_name": "Python 3 (ipykernel)",
   "language": "python",
   "name": "python3"
  },
  "language_info": {
   "codemirror_mode": {
    "name": "ipython",
    "version": 3
   },
   "file_extension": ".py",
   "mimetype": "text/x-python",
   "name": "python",
   "nbconvert_exporter": "python",
   "pygments_lexer": "ipython3",
   "version": "3.9.13"
  }
 },
 "nbformat": 4,
 "nbformat_minor": 5
}
